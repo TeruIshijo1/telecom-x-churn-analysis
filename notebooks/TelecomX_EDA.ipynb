{
 "cells": [
  {
   "cell_type": "markdown",
   "id": "dea7db12",
   "metadata": {},
   "source": [
    "# EDA del Churn de Clientes de Telecom X\n",
    "\n",
    "Este notebook realiza un análisis exploratorio básico del dataset de Telecom X. El dataset se carga desde el archivo JSON y se normaliza para obtener una estructura tabular."
   ]
  },
  {
   "cell_type": "code",
   "execution_count": null,
   "id": "0861aeda",
   "metadata": {},
   "outputs": [],
   "source": [
    "import pandas as pd\n",
    "import matplotlib.pyplot as plt\n",
    "import seaborn as sns\n",
    "\n",
    "# Cargar datos\n",
    "url = '../data/TelecomX_Data.json'\n",
    "\n",
    "df = pd.read_json(url)\n",
    "df = pd.json_normalize(df, sep='_')\n",
    "\n",
    "# Convertir columna de total a numérica\n",
    "df['account_Charges_Total'] = pd.to_numeric(df['account_Charges_Total'], errors='coerce')\n",
    "\n",
    "# Mostrar dimensiones y columnas\n",
    "print('Dimensiones:', df.shape)\n",
    "df.head()"
   ]
  },
  {
   "cell_type": "code",
   "execution_count": null,
   "id": "2fe31720",
   "metadata": {},
   "outputs": [],
   "source": [
    "# Resumen de tipos de datos\n",
    "df.dtypes\n",
    "\n",
    "# Distribución de churn\n",
    "plt.figure(figsize=(6,4))\n",
    "sns.countplot(x='Churn', data=df)\n",
    "plt.title('Distribución de churn')\n",
    "plt.show()"
   ]
  }
 ],
 "metadata": {},
 "nbformat": 4,
 "nbformat_minor": 5
}
